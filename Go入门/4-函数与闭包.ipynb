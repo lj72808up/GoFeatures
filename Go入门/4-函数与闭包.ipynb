{
 "cells": [
  {
   "cell_type": "markdown",
   "metadata": {},
   "source": [
    "### 四. 函数与闭包 \n",
    "1. 函数的闭包   \n",
    "    Go 函数可以是一个闭包。闭包是一个函数值，它引用了其函数体之外的变量。该函数可以访问并赋予其引用的变量的值，换句话说，该函数被这些变量“绑定”在一起。\n",
    "    例如，函数 adder 返回一个闭包。每个闭包都被绑定在其各自的 sum 变量上。\n",
    "    \n",
    "```go\n",
    "func adder(x int) func(int) int {\n",
    "    sum := x\n",
    "    return func(y int) int{\n",
    "        sum += y\n",
    "        return sum\n",
    "    }\n",
    "}\n",
    "\n",
    "\n",
    "func main(){\n",
    "    myfunc := adder(1)\n",
    "    fmt.Println(myfunc(2))\n",
    "}\n",
    "```\n",
    "\n",
    "2. go没有类  \n",
    "    go通过为结构体增加方法来实现类的作用. \n",
    "    ```go\n",
    "    func (structVariable StructType) functionName(field) returnType{\n",
    "        可以引用structVariable中的属性\n",
    "    }\n",
    "    ```"
   ]
  }
 ],
 "metadata": {
  "kernelspec": {
   "display_name": "Python 3",
   "language": "python",
   "name": "python3"
  },
  "language_info": {
   "codemirror_mode": {
    "name": "ipython",
    "version": 3
   },
   "file_extension": ".py",
   "mimetype": "text/x-python",
   "name": "python",
   "nbconvert_exporter": "python",
   "pygments_lexer": "ipython3",
   "version": "3.7.4"
  }
 },
 "nbformat": 4,
 "nbformat_minor": 2
}
