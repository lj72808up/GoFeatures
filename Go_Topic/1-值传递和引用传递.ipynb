{
 "cells": [
  {
   "cell_type": "markdown",
   "metadata": {},
   "source": [
    "#### 一. 值传递和引用传递在讨论什么  \n",
    "1. 求值策略(Evaluation Strategy)  \n",
    "    * 值传递与引用传递，在计算机领域是专有名词，如果你没有专门了解过，一般很难自行悟出其含义。\n",
    "    * 值传递和引用传递，属于函数调用时对`实参`的`求值策略`; 是对函数调用时, 参数的求值和传值的描述, 而非在讨论传递内容的类型  \n",
    "      (  传递的内容指：是值类型还是引用类型，是值还是指针; 值类型/引用类型，是用于区分两种`内存分配方式`，值类型在`调用栈`上分配，引用类型在`堆`上分配。 ） \n",
    "\n",
    "2. 实参的形式 - 表达式  \n",
    " 在函数调用过程中，调用者提供实参，这些实参可以是\n",
    "    * 常量：`Call(1)`;\n",
    "    * 变量：`Call(x)`;\n",
    "    * 也可以是他们的组合：`Call(2 * x + 1)`;\n",
    "    * 也可以是对其它函数的调用：`Call(GetNumber())`;   \n",
    " \n",
    "   但是所有这些实参的形式，都统称为`表达式`(Expression)。`求值`（Evaluation）即是指对这些表达式的简化并求解其值的过程。\n",
    "\n",
    "3. 值传递和引用传递  \n",
    "\n",
    "| |值传递|引用传递|\n",
    "|:----|:----|:----|\n",
    "| 根本区别 | 会创建副本(Copy) | 不创建副本 |\n",
    "| 所以 | 函数中无法改变原始对象的指向 | 函数中可以改变原始对象的指向 |\n",
    "\n",
    "   这里的改变不是指mutate, 而是`change`，指把一个变量指向另一个对象，而不是指仅仅改变变量的属性或是成员（如Java，所以说Java是Pass by value，原因是它调用时Copy，实参不能指向另一个对象，而不是因为被传递的东西本质上是个Value，这么讲计算机上什么不是Value?）。\n",
    "\n",
    "4. java, go 都是值传递的   \n",
    "    * java在实参是值类型时, 求值策略会直接复制该变量的值到调用栈; 实参是引用类型时, 求值策略只会复制变量的地址到调用栈, 函数通过地址访问变量\n",
    "    * go的实参也是值传递的, 想要拷贝实参的变量地址时, 需要手动书写`&`符号, 而java为了有意的取消了取地址符`&`, 隐藏了这一细节  "
   ]
  },
  {
   "cell_type": "code",
   "execution_count": null,
   "metadata": {},
   "outputs": [],
   "source": []
  }
 ],
 "metadata": {
  "kernelspec": {
   "display_name": "Python 3",
   "language": "python",
   "name": "python3"
  },
  "language_info": {
   "codemirror_mode": {
    "name": "ipython",
    "version": 3
   },
   "file_extension": ".py",
   "mimetype": "text/x-python",
   "name": "python",
   "nbconvert_exporter": "python",
   "pygments_lexer": "ipython3",
   "version": "3.7.4"
  }
 },
 "nbformat": 4,
 "nbformat_minor": 2
}
