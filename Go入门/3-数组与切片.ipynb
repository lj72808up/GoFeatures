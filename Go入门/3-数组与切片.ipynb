{
 "cells": [
  {
   "cell_type": "markdown",
   "metadata": {},
   "source": [
    "### 三. 数组与切片\n",
    "1. 数组\n",
    "    1. 数组作为一种类型出现, 声明数据时的使用方法和基本数据类型相同. 用`[n]T`表示拥有n个T类型的值的数组类型, `arr[n]`对数组元素赋值或取值  \n",
    "        ```go\n",
    "        var arr [2]string\n",
    "        arr[0] = \"hello\"\n",
    "        arr[1] = \"world\"\n",
    "        fmt.Println(arr[0],arr[1])\n",
    "        ```\n",
    "    2. `{}`一次性声明数组全部元素\n",
    "        ```go\n",
    "        a := []int {1,2,3}\n",
    "        ```\n",
    "    3. 结构体数组  \n",
    "       ```go\n",
    "        a := [] struct{\n",
    "            a int\n",
    "            b bool\n",
    "        }{\n",
    "            {1,false},\n",
    "            {2,true},\n",
    "        }\n",
    "        fmt.Println(a)  // [{1 false} {2 true}]\n",
    "       ```\n",
    "\n",
    "2. 切片  \n",
    "  `切片`: 数组的切片也是一种类型, 用`[]T`表示一个元素类型为T的切片. 通过数组的上下界对数组切片, 使用`arr[low:high]`切片, 切片区间是左闭右开的\n",
    "   * 切片与数组共享底层的数据\n",
    "   * 切片的长度获取: `len(slice)`\n",
    "   * 切片的容量, 是切片第一个元素到底层数组末尾的元素个数 : `cap(slice)`\n",
    "   * 切片的`零值`或者说是`默认值`是`nil`, 长度为0,  切没有底层数组\n",
    "   * `[陷阱]`: 切片操作并不会复制底层的数组。整个数组将被保存在内存中，直到它不再被引用。 因此有时候可能会因为一个小的切片引用导致保存所有的数组数据, 导致 GC 不能释放数组的空间要修复整个问题，可以将感兴趣的数据复制到一个新的切片中：\n",
    "        ```go\n",
    "        dest := make([]byte, len(src))\n",
    "        copy(dest, src)\n",
    "        ```\n",
    "\n",
    "6. `make()`创建数组和切片   \n",
    "  用`make(slice type, length, [capacity])`创建切片\n",
    "    ```go\n",
    "    a:=make([]int,5)   // len(a)=5\n",
    "    b:=make([]int,0,5) // len(b)=0, cap(b)=5\n",
    "    ```\n",
    "\n",
    "7. 二维数组\n",
    "   * 二维数组类型: `[][] ElemType`\n",
    "    ```go\n",
    "    var slice = [][]int{\n",
    "\t\t{1, 2, 3},\n",
    "\t\t{2, 3, 4},\n",
    "\t}\n",
    "    ```\n"
   ]
  }
 ],
 "metadata": {
  "kernelspec": {
   "display_name": "Python 3",
   "language": "python",
   "name": "python3"
  },
  "language_info": {
   "codemirror_mode": {
    "name": "ipython",
    "version": 3
   },
   "file_extension": ".py",
   "mimetype": "text/x-python",
   "name": "python",
   "nbconvert_exporter": "python",
   "pygments_lexer": "ipython3",
   "version": "3.7.4"
  }
 },
 "nbformat": 4,
 "nbformat_minor": 2
}
